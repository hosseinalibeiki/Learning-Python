{
  "nbformat": 4,
  "nbformat_minor": 0,
  "metadata": {
    "colab": {
      "provenance": [],
      "mount_file_id": "1GZ3dFDXw_hpi9EZ7HRmlRpAKRcunQI9R",
      "authorship_tag": "ABX9TyMFf6YTcRou6Gid5BS/5NFC",
      "include_colab_link": true
    },
    "kernelspec": {
      "name": "python3",
      "display_name": "Python 3"
    },
    "language_info": {
      "name": "python"
    }
  },
  "cells": [
    {
      "cell_type": "markdown",
      "metadata": {
        "id": "view-in-github",
        "colab_type": "text"
      },
      "source": [
        "<a href=\"https://colab.research.google.com/github/hosseinalibeiki/Learning-Python/blob/main/Function_and_Class.ipynb\" target=\"_parent\"><img src=\"https://colab.research.google.com/assets/colab-badge.svg\" alt=\"Open In Colab\"/></a>"
      ]
    },
    {
      "cell_type": "markdown",
      "source": [
        "## **Function**\n",
        "We use functions to break up our code into small chunks. These chunks are easier to read, understand and maintain. If there are bugs, it’s easier to find bugs in a small chunk than the entire program. We can also re-use these chunks."
      ],
      "metadata": {
        "id": "g_I_wdrUPfRz"
      }
    },
    {
      "cell_type": "code",
      "source": [
        "def SayHello(name=\"User\"):\n",
        "  username = name\n",
        "  print(f\"Welcome Dear {username}\")"
      ],
      "metadata": {
        "id": "ztC7ATi3QgoZ"
      },
      "execution_count": null,
      "outputs": []
    },
    {
      "cell_type": "code",
      "source": [
        "SayHello()"
      ],
      "metadata": {
        "colab": {
          "base_uri": "https://localhost:8080/"
        },
        "id": "66BfrwkgQzxI",
        "outputId": "85ce55d0-8d73-4fb5-a7f8-dc74c2a6f849"
      },
      "execution_count": null,
      "outputs": [
        {
          "output_type": "stream",
          "name": "stdout",
          "text": [
            "Welcome Dear User\n"
          ]
        }
      ]
    },
    {
      "cell_type": "code",
      "source": [
        "SayHello(\"Hossein\") #Parameters are placeholders for the data we can pass to functions. Arguments are the actual values we pass."
      ],
      "metadata": {
        "colab": {
          "base_uri": "https://localhost:8080/"
        },
        "id": "5MvuVIHMQ7KH",
        "outputId": "8721feb8-8202-4213-e23e-3686a172827e"
      },
      "execution_count": null,
      "outputs": [
        {
          "output_type": "stream",
          "name": "stdout",
          "text": [
            "Welcome Dear Hossein\n"
          ]
        }
      ]
    },
    {
      "cell_type": "code",
      "source": [
        "# We have two types of arguments:\n",
        "# Positional arguments: their position (order) matters.\n",
        "# Keyword arguments: position doesn’t matter - we prefix them with the parameter name.\n"
      ],
      "metadata": {
        "id": "bQyUyCD3RXLB"
      },
      "execution_count": null,
      "outputs": []
    },
    {
      "cell_type": "code",
      "execution_count": null,
      "metadata": {
        "id": "W7zeSReRPNUj"
      },
      "outputs": [],
      "source": [
        "def Sum2Numbers(x,y):\n",
        "  return x+y\n"
      ]
    },
    {
      "cell_type": "code",
      "source": [
        "Sum2Numbers(20,10)"
      ],
      "metadata": {
        "colab": {
          "base_uri": "https://localhost:8080/"
        },
        "id": "zGbq4nxQP2zc",
        "outputId": "4a7bc4f7-a087-4c38-be49-484c7f751672"
      },
      "execution_count": null,
      "outputs": [
        {
          "output_type": "execute_result",
          "data": {
            "text/plain": [
              "30"
            ]
          },
          "metadata": {},
          "execution_count": 2
        }
      ]
    },
    {
      "cell_type": "markdown",
      "source": [
        "## **Exceptions**"
      ],
      "metadata": {
        "id": "-MQ3YPuFSdde"
      }
    },
    {
      "cell_type": "code",
      "source": [
        "try:\n",
        "  age = int(input('Age:'))\n",
        "  income = 20000\n",
        "  risk = income / age\n",
        "  print (age)\n",
        "except ValueError:\n",
        "  print('Not a valid number' )\n",
        "except ZeroDivisionError:\n",
        "  print('Age cannot be 0')"
      ],
      "metadata": {
        "colab": {
          "base_uri": "https://localhost:8080/"
        },
        "id": "_aVyrN6rQAkS",
        "outputId": "5adc08ca-2fca-4e95-8e92-aad0486ab791"
      },
      "execution_count": null,
      "outputs": [
        {
          "output_type": "stream",
          "name": "stdout",
          "text": [
            "Age:test\n",
            "Not a valid number\n"
          ]
        }
      ]
    },
    {
      "cell_type": "code",
      "source": [
        "def CalculateSalesTax(Salestaxrate=0.5):\n",
        "  try:\n",
        "    PurchasePrice = int(input('Purchase price:'))\n",
        "    Output = PurchasePrice * Salestaxrate\n",
        "    print (Output)\n",
        "  except ValueError:\n",
        "    print('Not a valid number' )"
      ],
      "metadata": {
        "id": "zesfD7BnSsIi"
      },
      "execution_count": null,
      "outputs": []
    },
    {
      "cell_type": "code",
      "source": [
        "CalculateSalesTax()"
      ],
      "metadata": {
        "colab": {
          "base_uri": "https://localhost:8080/"
        },
        "id": "sMlix80mT8AD",
        "outputId": "a3c7c64b-c203-46cc-ed4d-24bffcb4b416"
      },
      "execution_count": null,
      "outputs": [
        {
          "output_type": "stream",
          "name": "stdout",
          "text": [
            "Purchase price:250\n",
            "125.0\n"
          ]
        }
      ]
    },
    {
      "cell_type": "markdown",
      "source": [
        "## **Classes**\n",
        "We use classes to define new types."
      ],
      "metadata": {
        "id": "cTgR7M7eU2M3"
      }
    },
    {
      "cell_type": "code",
      "source": [
        "class Shape:\n",
        "  def __init__(self, x=10, y = 60):\n",
        "    #__init__ is a special method called constructor. It gets called at the time of creating new objects. We use it to initialize our object\n",
        "    self.x = x\n",
        "    self.y = y\n",
        "\n",
        "  def Dimentions (self):\n",
        "    return f\"Dimensions are x : {self.x} and y: {self.y}\"\n",
        "  def Area(self):\n",
        "    return self.x *self.y"
      ],
      "metadata": {
        "id": "saYT5cJ_UDQB"
      },
      "execution_count": null,
      "outputs": []
    },
    {
      "cell_type": "code",
      "source": [
        "PoinClassObject = Shape(10,5)"
      ],
      "metadata": {
        "id": "qk-4WzmPV5fc"
      },
      "execution_count": null,
      "outputs": []
    },
    {
      "cell_type": "code",
      "source": [
        "PoinClassObject.x = 50"
      ],
      "metadata": {
        "id": "gGv7shPDWGGi"
      },
      "execution_count": null,
      "outputs": []
    },
    {
      "cell_type": "code",
      "source": [
        "PoinClassObject.x"
      ],
      "metadata": {
        "colab": {
          "base_uri": "https://localhost:8080/"
        },
        "id": "oQMrAT-UWV4B",
        "outputId": "2bc77aac-0f30-41d6-c7d9-7164465dd7c3"
      },
      "execution_count": null,
      "outputs": [
        {
          "output_type": "execute_result",
          "data": {
            "text/plain": [
              "50"
            ]
          },
          "metadata": {},
          "execution_count": 72
        }
      ]
    },
    {
      "cell_type": "code",
      "source": [
        "PoinClassObject.Dimentions()"
      ],
      "metadata": {
        "colab": {
          "base_uri": "https://localhost:8080/",
          "height": 36
        },
        "id": "XIEDhAhjX09G",
        "outputId": "d2277afa-3702-40ba-9bc9-858356503272"
      },
      "execution_count": null,
      "outputs": [
        {
          "output_type": "execute_result",
          "data": {
            "text/plain": [
              "'Dimensions are x : 50 and y: 5'"
            ],
            "application/vnd.google.colaboratory.intrinsic+json": {
              "type": "string"
            }
          },
          "metadata": {},
          "execution_count": 73
        }
      ]
    },
    {
      "cell_type": "code",
      "source": [
        "PoinClassObject.Area()"
      ],
      "metadata": {
        "colab": {
          "base_uri": "https://localhost:8080/"
        },
        "id": "A6N8zypWX4eh",
        "outputId": "5f9009af-3981-4d0f-f851-d4759b844505"
      },
      "execution_count": null,
      "outputs": [
        {
          "output_type": "execute_result",
          "data": {
            "text/plain": [
              "250"
            ]
          },
          "metadata": {},
          "execution_count": 74
        }
      ]
    },
    {
      "cell_type": "code",
      "source": [
        "#Inheritance\n",
        "class Animal:\n",
        "  AnimalName =\"tedi\"\n",
        "  def __init__(self, name=\"tedi\"):\n",
        "    self.AnimalName = name\n",
        "    pass\n",
        "  def Walk(self):\n",
        "    return f\" the {self.AnimalName} is Walking ...\"\n",
        "\n",
        "class Dog (Animal):\n",
        "  def __init__(self,Name):\n",
        "    Animal.AnimalName = Name\n",
        "  def Park(self):\n",
        "    return f\"the {self.AnimalName} is Parking ...\"\n"
      ],
      "metadata": {
        "id": "yxmXluYVY6bR"
      },
      "execution_count": null,
      "outputs": []
    },
    {
      "cell_type": "code",
      "source": [
        "dog = Dog(\"petti\")"
      ],
      "metadata": {
        "id": "wPMTI873a0_k"
      },
      "execution_count": null,
      "outputs": []
    },
    {
      "cell_type": "code",
      "source": [
        "dog.Park()"
      ],
      "metadata": {
        "colab": {
          "base_uri": "https://localhost:8080/",
          "height": 36
        },
        "id": "s2zK9_r-a6yY",
        "outputId": "342dd32f-2673-400c-f568-9f403de86144"
      },
      "execution_count": null,
      "outputs": [
        {
          "output_type": "execute_result",
          "data": {
            "text/plain": [
              "'the petti is Parking ...'"
            ],
            "application/vnd.google.colaboratory.intrinsic+json": {
              "type": "string"
            }
          },
          "metadata": {},
          "execution_count": 106
        }
      ]
    },
    {
      "cell_type": "code",
      "source": [
        "dog.Walk()"
      ],
      "metadata": {
        "colab": {
          "base_uri": "https://localhost:8080/",
          "height": 36
        },
        "id": "ryYLX3yYa9bU",
        "outputId": "1bdfb021-499f-4ccd-a9fa-5e8552704b13"
      },
      "execution_count": null,
      "outputs": [
        {
          "output_type": "execute_result",
          "data": {
            "text/plain": [
              "' the petti is Walking ...'"
            ],
            "application/vnd.google.colaboratory.intrinsic+json": {
              "type": "string"
            }
          },
          "metadata": {},
          "execution_count": 107
        }
      ]
    },
    {
      "cell_type": "code",
      "source": [
        "Myobject = Animal()\n",
        "Myobject.Walk()"
      ],
      "metadata": {
        "colab": {
          "base_uri": "https://localhost:8080/",
          "height": 36
        },
        "id": "VHVf9tDUf01Q",
        "outputId": "1dd95932-59ae-418a-c620-bd9f1aa71cf9"
      },
      "execution_count": null,
      "outputs": [
        {
          "output_type": "execute_result",
          "data": {
            "text/plain": [
              "' the tedi is Walking ...'"
            ],
            "application/vnd.google.colaboratory.intrinsic+json": {
              "type": "string"
            }
          },
          "metadata": {},
          "execution_count": 108
        }
      ]
    },
    {
      "cell_type": "code",
      "source": [],
      "metadata": {
        "id": "0ACnacekgBbo"
      },
      "execution_count": null,
      "outputs": []
    },
    {
      "cell_type": "markdown",
      "source": [
        "## **Packages**\n",
        "A package is a directory with __ init__.py in it. It can contain one or more modules.\n"
      ],
      "metadata": {
        "id": "dy_5aaGmyAdf"
      }
    },
    {
      "cell_type": "code",
      "source": [
        "from google.colab import drive\n",
        "drive.mount('/content/drive')"
      ],
      "metadata": {
        "colab": {
          "base_uri": "https://localhost:8080/"
        },
        "id": "gAl2sjgAjrfE",
        "outputId": "cb8dc1e3-2c5e-4369-e6c7-89b339089d5a"
      },
      "execution_count": 1,
      "outputs": [
        {
          "output_type": "stream",
          "name": "stdout",
          "text": [
            "Drive already mounted at /content/drive; to attempt to forcibly remount, call drive.mount(\"/content/drive\", force_remount=True).\n"
          ]
        }
      ]
    },
    {
      "cell_type": "code",
      "source": [
        "import os\n",
        "\n",
        "# Example path, adjust it to the actual path where your package is stored\n",
        "package_directory = '/content/drive/MyDrive/mypackage'\n",
        "\n",
        "# Change the current working directory\n",
        "os.chdir(package_directory)"
      ],
      "metadata": {
        "id": "asc-n-GWqWFB"
      },
      "execution_count": 10,
      "outputs": []
    },
    {
      "cell_type": "code",
      "source": [
        "import module2"
      ],
      "metadata": {
        "id": "50q0H34zpr9N"
      },
      "execution_count": 11,
      "outputs": []
    },
    {
      "cell_type": "code",
      "source": [
        "module2.add(2,5)"
      ],
      "metadata": {
        "colab": {
          "base_uri": "https://localhost:8080/"
        },
        "id": "X-FXW7Jwxt1y",
        "outputId": "90257c6d-9bba-4cba-d101-4bd17d8121de"
      },
      "execution_count": 14,
      "outputs": [
        {
          "output_type": "execute_result",
          "data": {
            "text/plain": [
              "7"
            ]
          },
          "metadata": {},
          "execution_count": 14
        }
      ]
    },
    {
      "cell_type": "code",
      "source": [
        "from module2 import add\n",
        "add (20,30)"
      ],
      "metadata": {
        "colab": {
          "base_uri": "https://localhost:8080/"
        },
        "id": "AkBKJ_4sxzap",
        "outputId": "4231a6b6-c22c-4131-bed9-27f392e67dd9"
      },
      "execution_count": 15,
      "outputs": [
        {
          "output_type": "execute_result",
          "data": {
            "text/plain": [
              "50"
            ]
          },
          "metadata": {},
          "execution_count": 15
        }
      ]
    },
    {
      "cell_type": "markdown",
      "source": [
        "## **Python Standard Library**\n",
        "Python comes with a huge library of modules for performing common tasks such as\n",
        "sending emails, working with date/time, generating random values, etc."
      ],
      "metadata": {
        "id": "dmw-E6vjyhGF"
      }
    },
    {
      "cell_type": "code",
      "source": [
        "import random\n",
        "random. random( ) # returns a float between 0 to 1\n",
        "random.randint(1, 6) # returns an int between 1 to 6"
      ],
      "metadata": {
        "colab": {
          "base_uri": "https://localhost:8080/"
        },
        "id": "eS7cDyhLyVPV",
        "outputId": "8b371597-30c1-4ea9-e601-d21e0f47b002"
      },
      "execution_count": 18,
      "outputs": [
        {
          "output_type": "execute_result",
          "data": {
            "text/plain": [
              "3"
            ]
          },
          "metadata": {},
          "execution_count": 18
        }
      ]
    },
    {
      "cell_type": "code",
      "source": [
        "members = ['John', 'Bob', 'Mary' ]\n",
        "leader = random.choice(members) # randomly picks an item\n",
        "leader"
      ],
      "metadata": {
        "colab": {
          "base_uri": "https://localhost:8080/",
          "height": 36
        },
        "id": "_20BM7LMy0J8",
        "outputId": "862418a2-75bb-43aa-9068-535139727e18"
      },
      "execution_count": 21,
      "outputs": [
        {
          "output_type": "execute_result",
          "data": {
            "text/plain": [
              "'Bob'"
            ],
            "application/vnd.google.colaboratory.intrinsic+json": {
              "type": "string"
            }
          },
          "metadata": {},
          "execution_count": 21
        }
      ]
    },
    {
      "cell_type": "code",
      "source": [],
      "metadata": {
        "id": "iXY4v1BlzLPf"
      },
      "execution_count": null,
      "outputs": []
    }
  ]
}