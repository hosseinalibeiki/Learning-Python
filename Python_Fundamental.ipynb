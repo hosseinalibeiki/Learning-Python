{
  "nbformat": 4,
  "nbformat_minor": 0,
  "metadata": {
    "colab": {
      "provenance": [],
      "include_colab_link": true
    },
    "kernelspec": {
      "name": "python3",
      "display_name": "Python 3"
    },
    "language_info": {
      "name": "python"
    }
  },
  "cells": [
    {
      "cell_type": "markdown",
      "metadata": {
        "id": "view-in-github",
        "colab_type": "text"
      },
      "source": [
        "<a href=\"https://colab.research.google.com/github/hosseinalibeiki/Learning-Python/blob/main/Python_Fundamental.ipynb\" target=\"_parent\"><img src=\"https://colab.research.google.com/assets/colab-badge.svg\" alt=\"Open In Colab\"/></a>"
      ]
    },
    {
      "cell_type": "markdown",
      "source": [
        "## **Variable**\n",
        "We use variables to temporarily store data in computer’s memory.\n"
      ],
      "metadata": {
        "id": "cJ1ObwPrR4Lz"
      }
    },
    {
      "cell_type": "code",
      "execution_count": null,
      "metadata": {
        "id": "1OCUIWKsG9p0"
      },
      "outputs": [],
      "source": [
        "Price = 100 # Price is an integer (a whole number without a decimal point)\n",
        "\n",
        "Rating = 1.5 #Rating is a float (a number with a decimal point)\n",
        "\n",
        "Course_name = \"Python for Beginners\" #Course_name is a string (a sequence of characters)\n",
        "\n",
        "Is_published = True #is_published is a boolean. Boolean values can be True or False."
      ]
    },
    {
      "cell_type": "code",
      "source": [
        "Price,Rating,Course_name,Is_published"
      ],
      "metadata": {
        "id": "VbHJ5LaYHPDE",
        "colab": {
          "base_uri": "https://localhost:8080/"
        },
        "outputId": "2cfe19b5-e1db-42cc-93e0-b697f67c90b4"
      },
      "execution_count": null,
      "outputs": [
        {
          "output_type": "execute_result",
          "data": {
            "text/plain": [
              "(100, 1.5, 'Python for Beginners', True)"
            ]
          },
          "metadata": {},
          "execution_count": 6
        }
      ]
    },
    {
      "cell_type": "markdown",
      "source": [
        "## **Comments**\n",
        "We use comments to add notes to our code. Good comments explain the hows and\n",
        "whys, not what the code does. That should be reflected in the code itself. Use\n",
        "comments to add reminders to yourself or other developers, or also explain your\n",
        "assumptions and the reasons you’ve written code in a certain way."
      ],
      "metadata": {
        "id": "U_h9EiEoUT53"
      }
    },
    {
      "cell_type": "code",
      "source": [
        "# This is a comment and it won’t get executed.\n",
        "# Our comments can be multiple lines."
      ],
      "metadata": {
        "id": "Z6oMPz-gUVdA"
      },
      "execution_count": null,
      "outputs": []
    },
    {
      "cell_type": "markdown",
      "source": [
        "## **Receiving Input**\n",
        "We can receive input from the user by calling the input function as well as we can retain data in a variable"
      ],
      "metadata": {
        "id": "lI3-sDohWyNe"
      }
    },
    {
      "cell_type": "code",
      "source": [
        "FirstName = input (\"what is your name : \")"
      ],
      "metadata": {
        "colab": {
          "base_uri": "https://localhost:8080/"
        },
        "id": "0SBbVm3IWpz_",
        "outputId": "731d2db3-a0eb-4fa5-d95e-76ad2fadd3ae"
      },
      "execution_count": 3,
      "outputs": [
        {
          "name": "stdout",
          "output_type": "stream",
          "text": [
            "what is your name : Hossein\n"
          ]
        }
      ]
    },
    {
      "cell_type": "code",
      "source": [
        "FirstName"
      ],
      "metadata": {
        "colab": {
          "base_uri": "https://localhost:8080/",
          "height": 36
        },
        "id": "HN1MdImwXHlO",
        "outputId": "e2ea37ca-c8d8-4d96-f1f1-29bd707a0efb"
      },
      "execution_count": 4,
      "outputs": [
        {
          "output_type": "execute_result",
          "data": {
            "text/plain": [
              "'Hossein'"
            ],
            "application/vnd.google.colaboratory.intrinsic+json": {
              "type": "string"
            }
          },
          "metadata": {},
          "execution_count": 4
        }
      ]
    },
    {
      "cell_type": "markdown",
      "source": [
        "## **String**\n",
        "We can define strings using single (' ') ordouble( \" \" ) quotes.\n",
        "\n",
        "To define a multi-line string, we surround our string with tripe quotes (\"\"””).\n",
        "\n",
        "We can get individual characters in a string using square brackets [  ]."
      ],
      "metadata": {
        "id": "AuwMSScSXt4x"
      }
    },
    {
      "cell_type": "code",
      "source": [
        "cours_1 = 'Python for Beginners'\n",
        "# cours_1[0]  returns the first character\n",
        "# cours_1[1]  returns the second characterStrings\n",
        "cours_1[0] , cours_1[1]\n"
      ],
      "metadata": {
        "colab": {
          "base_uri": "https://localhost:8080/"
        },
        "id": "O9zgWk1LXiCy",
        "outputId": "9c75785d-5f08-4c1c-de82-9b0f6dd6e48f"
      },
      "execution_count": 8,
      "outputs": [
        {
          "output_type": "execute_result",
          "data": {
            "text/plain": [
              "('P', 'y')"
            ]
          },
          "metadata": {},
          "execution_count": 8
        }
      ]
    },
    {
      "cell_type": "code",
      "source": [
        "#course_1[-1]  returns the first character from the end\n",
        "#course_1[-2]  returns the second character from the end\n",
        "cours_1[-1], cours_1[-2]"
      ],
      "metadata": {
        "colab": {
          "base_uri": "https://localhost:8080/"
        },
        "id": "kUzoa70gYHlO",
        "outputId": "8b5eb519-f2c7-428f-a0c4-1566170e069d"
      },
      "execution_count": 10,
      "outputs": [
        {
          "output_type": "execute_result",
          "data": {
            "text/plain": [
              "('s', 'r')"
            ]
          },
          "metadata": {},
          "execution_count": 10
        }
      ]
    },
    {
      "cell_type": "code",
      "source": [
        "#We can slice a string using a similar notation:\n",
        "cours_1[0:]"
      ],
      "metadata": {
        "colab": {
          "base_uri": "https://localhost:8080/",
          "height": 36
        },
        "id": "FxlS2ZjkYxR3",
        "outputId": "86ad9bba-645c-4c74-d519-4eefd3d0602f"
      },
      "execution_count": 13,
      "outputs": [
        {
          "output_type": "execute_result",
          "data": {
            "text/plain": [
              "'Python for Beginners'"
            ],
            "application/vnd.google.colaboratory.intrinsic+json": {
              "type": "string"
            }
          },
          "metadata": {},
          "execution_count": 13
        }
      ]
    },
    {
      "cell_type": "code",
      "source": [
        "#We can use formatted strings to dynamically insert values into our strings:\n",
        "MyFirstName = 'Hossein'\n",
        "Message = f\"Welcome Dear {MyFirstName}\"\n"
      ],
      "metadata": {
        "colab": {
          "base_uri": "https://localhost:8080/",
          "height": 36
        },
        "id": "uXFvYOAzZGUX",
        "outputId": "d560cbce-e547-4354-ac34-756e6cf69b56"
      },
      "execution_count": 17,
      "outputs": [
        {
          "output_type": "execute_result",
          "data": {
            "text/plain": [
              "'welcome dear hossein'"
            ],
            "application/vnd.google.colaboratory.intrinsic+json": {
              "type": "string"
            }
          },
          "metadata": {},
          "execution_count": 17
        }
      ]
    },
    {
      "cell_type": "code",
      "source": [
        "Message.upper() # to convert to uppercase"
      ],
      "metadata": {
        "colab": {
          "base_uri": "https://localhost:8080/",
          "height": 36
        },
        "id": "_c98qv5ha57w",
        "outputId": "93d1d5f3-630b-4116-df06-f94a45b7e680"
      },
      "execution_count": 18,
      "outputs": [
        {
          "output_type": "execute_result",
          "data": {
            "text/plain": [
              "'WELCOME DEAR HOSSEIN'"
            ],
            "application/vnd.google.colaboratory.intrinsic+json": {
              "type": "string"
            }
          },
          "metadata": {},
          "execution_count": 18
        }
      ]
    },
    {
      "cell_type": "code",
      "source": [
        "Message.lower () # to convert to lowercase"
      ],
      "metadata": {
        "colab": {
          "base_uri": "https://localhost:8080/",
          "height": 36
        },
        "id": "JU6Lsq5AeFWK",
        "outputId": "dfc31910-1830-422d-de0f-1619968f22dd"
      },
      "execution_count": 21,
      "outputs": [
        {
          "output_type": "execute_result",
          "data": {
            "text/plain": [
              "'welcome dear hossein'"
            ],
            "application/vnd.google.colaboratory.intrinsic+json": {
              "type": "string"
            }
          },
          "metadata": {},
          "execution_count": 21
        }
      ]
    },
    {
      "cell_type": "code",
      "source": [
        "Message.title()  # to capitalize the first letter of every word"
      ],
      "metadata": {
        "colab": {
          "base_uri": "https://localhost:8080/",
          "height": 36
        },
        "id": "70i0eMxqeJT-",
        "outputId": "c54d8730-6ae3-41a3-8f94-ebcac80955df"
      },
      "execution_count": 23,
      "outputs": [
        {
          "output_type": "execute_result",
          "data": {
            "text/plain": [
              "'Welcome Dear Hossein'"
            ],
            "application/vnd.google.colaboratory.intrinsic+json": {
              "type": "string"
            }
          },
          "metadata": {},
          "execution_count": 23
        }
      ]
    },
    {
      "cell_type": "code",
      "source": [
        "Message.find('e') # returns the index of the first occurrence of p (or -1 if not found)"
      ],
      "metadata": {
        "colab": {
          "base_uri": "https://localhost:8080/"
        },
        "id": "mpnZ1gUwftMM",
        "outputId": "3a9dd209-9e4e-4e37-994e-9c7627a4ee69"
      },
      "execution_count": 27,
      "outputs": [
        {
          "output_type": "execute_result",
          "data": {
            "text/plain": [
              "1"
            ]
          },
          "metadata": {},
          "execution_count": 27
        }
      ]
    },
    {
      "cell_type": "code",
      "source": [
        "Message.replace('H','M')"
      ],
      "metadata": {
        "colab": {
          "base_uri": "https://localhost:8080/",
          "height": 36
        },
        "id": "BQOL0r8Bf5Qx",
        "outputId": "9970e593-6e87-4a3e-b076-4cd70af81bea"
      },
      "execution_count": 28,
      "outputs": [
        {
          "output_type": "execute_result",
          "data": {
            "text/plain": [
              "'Welcome Dear Mossein'"
            ],
            "application/vnd.google.colaboratory.intrinsic+json": {
              "type": "string"
            }
          },
          "metadata": {},
          "execution_count": 28
        }
      ]
    },
    {
      "cell_type": "markdown",
      "source": [
        "## **Arithmetic Operations**"
      ],
      "metadata": {
        "id": "CYXowdWmgdxF"
      }
    },
    {
      "cell_type": "code",
      "source": [
        "# Augmented assignment operator:\n",
        "\n",
        "x= 20\n",
        "x = x+10\n",
        "x = x-5\n",
        "x"
      ],
      "metadata": {
        "colab": {
          "base_uri": "https://localhost:8080/"
        },
        "id": "w-cBl2t4gjm4",
        "outputId": "ab2ae550-6378-4dee-fd37-4bcf7ce12adc"
      },
      "execution_count": 35,
      "outputs": [
        {
          "output_type": "execute_result",
          "data": {
            "text/plain": [
              "25"
            ]
          },
          "metadata": {},
          "execution_count": 35
        }
      ]
    },
    {
      "cell_type": "code",
      "source": [
        "x= 20\n",
        "x +=10\n",
        "x -=5\n",
        "x"
      ],
      "metadata": {
        "colab": {
          "base_uri": "https://localhost:8080/"
        },
        "id": "vnHS76oxg0st",
        "outputId": "c05793bd-a2ad-4af1-de36-a82853d67605"
      },
      "execution_count": 34,
      "outputs": [
        {
          "output_type": "execute_result",
          "data": {
            "text/plain": [
              "25"
            ]
          },
          "metadata": {},
          "execution_count": 34
        }
      ]
    },
    {
      "cell_type": "markdown",
      "source": [
        "## **Operator precedence** :\n",
        "\n",
        "\n",
        "1. Parenthesis\n",
        "\n",
        "2. Exponentiation\n",
        "\n",
        "3. Multiplication / Division\n",
        "\n",
        "4. Addition / Subtraction\n"
      ],
      "metadata": {
        "id": "zeR1lHI3hycx"
      }
    },
    {
      "cell_type": "code",
      "source": [
        "num= (3**2 *4)/(1+2)-2\n",
        "num"
      ],
      "metadata": {
        "colab": {
          "base_uri": "https://localhost:8080/"
        },
        "id": "J5YYiFuAhJ-A",
        "outputId": "1b16c6d7-1a15-465f-dd62-bc42ea4de746"
      },
      "execution_count": 43,
      "outputs": [
        {
          "output_type": "execute_result",
          "data": {
            "text/plain": [
              "10.0"
            ]
          },
          "metadata": {},
          "execution_count": 43
        }
      ]
    },
    {
      "cell_type": "markdown",
      "source": [
        "## **If Statements**"
      ],
      "metadata": {
        "id": "YFKYckQNkk27"
      }
    },
    {
      "cell_type": "code",
      "source": [
        "Weather = \"hot\"\n",
        "# if statment:\n",
        "#   Do something\n",
        "# elif staement:\n",
        "#   Do something\n",
        "# else :\n",
        "#   Do final decision"
      ],
      "metadata": {
        "id": "tuKvLvW6ie17"
      },
      "execution_count": 48,
      "outputs": []
    },
    {
      "cell_type": "code",
      "source": [
        "if Weather == \"hot\":\n",
        "  print(\"today weather is hot\")\n",
        "elif Weather == \"cold\":\n",
        "  print(\"Today weather is too cold\")\n",
        "else:\n",
        "  print(\"Weather is Normal\")"
      ],
      "metadata": {
        "colab": {
          "base_uri": "https://localhost:8080/"
        },
        "id": "rkvQqSaukpLK",
        "outputId": "3057d269-4d92-4703-f886-9321c597475b"
      },
      "execution_count": 47,
      "outputs": [
        {
          "output_type": "stream",
          "name": "stdout",
          "text": [
            "today weather is hot\n"
          ]
        }
      ]
    },
    {
      "cell_type": "markdown",
      "source": [
        "## **Logical operators :**\n"
      ],
      "metadata": {
        "id": "_n4vL3wGp7gM"
      }
    },
    {
      "cell_type": "code",
      "source": [
        "Fuel = True\n",
        "Rings = False"
      ],
      "metadata": {
        "id": "XvcX5HlQlP0u"
      },
      "execution_count": 56,
      "outputs": []
    },
    {
      "cell_type": "code",
      "source": [
        "if Fuel and Rings :\n",
        "  print(\"Both are true\")\n",
        "elif Fuel or Rings:\n",
        "  print(\"Ones is true\")"
      ],
      "metadata": {
        "colab": {
          "base_uri": "https://localhost:8080/"
        },
        "id": "JfzfGJXcm61y",
        "outputId": "4593f078-b5da-4f54-c6b6-f2b2a4d8f166"
      },
      "execution_count": 57,
      "outputs": [
        {
          "output_type": "stream",
          "name": "stdout",
          "text": [
            "Ones is true\n"
          ]
        }
      ]
    },
    {
      "cell_type": "markdown",
      "source": [
        "## **Comparison operators**"
      ],
      "metadata": {
        "id": "Ve04un7wtwIK"
      }
    },
    {
      "cell_type": "code",
      "source": [
        "# <= => > < == ==\n",
        "Profit =50\n",
        "Loss = 20\n",
        "if Profit > Loss:\n",
        "  print(\"We have benefit\")\n",
        "elif Profit < Loss :\n",
        "  print(\"We damaged\")\n",
        "else :\n",
        "  print(\"There is not any activity\")"
      ],
      "metadata": {
        "colab": {
          "base_uri": "https://localhost:8080/"
        },
        "id": "B6DC3vuiswc7",
        "outputId": "f3432537-d323-411e-cd14-637d60cca6a0"
      },
      "execution_count": 71,
      "outputs": [
        {
          "output_type": "stream",
          "name": "stdout",
          "text": [
            "We have benefit\n"
          ]
        }
      ]
    },
    {
      "cell_type": "code",
      "source": [
        "print(Profit == Loss)\n",
        "print(Profit != Loss)\n",
        "print(Profit < Loss)\n",
        "print(Profit > Loss)"
      ],
      "metadata": {
        "colab": {
          "base_uri": "https://localhost:8080/"
        },
        "id": "_sikHZcHtb4C",
        "outputId": "c24a8ddf-d853-425f-bb9b-4d67c2f6e6cd"
      },
      "execution_count": 72,
      "outputs": [
        {
          "output_type": "stream",
          "name": "stdout",
          "text": [
            "False\n",
            "True\n",
            "False\n",
            "True\n"
          ]
        }
      ]
    },
    {
      "cell_type": "markdown",
      "source": [
        "## **LOOPS**"
      ],
      "metadata": {
        "id": "VLRNze4B3L39"
      }
    },
    {
      "cell_type": "code",
      "source": [
        "i=1\n",
        "while  i < 10:\n",
        "  print(i)\n",
        "  i +=1"
      ],
      "metadata": {
        "colab": {
          "base_uri": "https://localhost:8080/"
        },
        "id": "9_4xxAhf0h7m",
        "outputId": "18ac0cd9-c8ba-4b10-e5d0-398057d296be"
      },
      "execution_count": 73,
      "outputs": [
        {
          "output_type": "stream",
          "name": "stdout",
          "text": [
            "1\n",
            "2\n",
            "3\n",
            "4\n",
            "5\n",
            "6\n",
            "7\n",
            "8\n",
            "9\n"
          ]
        }
      ]
    },
    {
      "cell_type": "code",
      "source": [
        "for i in range(10):\n",
        "  print(i)"
      ],
      "metadata": {
        "colab": {
          "base_uri": "https://localhost:8080/"
        },
        "id": "ND99u6J_3X7n",
        "outputId": "8a2401ec-1aa8-49f0-834a-ed7ba327ea36"
      },
      "execution_count": 74,
      "outputs": [
        {
          "output_type": "stream",
          "name": "stdout",
          "text": [
            "0\n",
            "1\n",
            "2\n",
            "3\n",
            "4\n",
            "5\n",
            "6\n",
            "7\n",
            "8\n",
            "9\n"
          ]
        }
      ]
    },
    {
      "cell_type": "markdown",
      "source": [
        "## **Lists**"
      ],
      "metadata": {
        "id": "rgUM0e153pbB"
      }
    },
    {
      "cell_type": "code",
      "source": [
        "numbers = [1, 2, 3, 4, 5]\n",
        "\n",
        "numbers [0] #returns the first item\n",
        "numbers[1] #returns the second item\n",
        "numbers[-1] #returns the first item from the end"
      ],
      "metadata": {
        "colab": {
          "base_uri": "https://localhost:8080/"
        },
        "id": "FY0hxB_63coK",
        "outputId": "9020156f-cf4c-4605-b839-3c0da2ef20ab"
      },
      "execution_count": 91,
      "outputs": [
        {
          "output_type": "execute_result",
          "data": {
            "text/plain": [
              "5"
            ]
          },
          "metadata": {},
          "execution_count": 91
        }
      ]
    },
    {
      "cell_type": "code",
      "source": [
        "numbers[:2]"
      ],
      "metadata": {
        "colab": {
          "base_uri": "https://localhost:8080/"
        },
        "id": "FZuoYMzT3zav",
        "outputId": "1b9b408e-d061-4ad9-b2f4-733ade2d0bfa"
      },
      "execution_count": 76,
      "outputs": [
        {
          "output_type": "execute_result",
          "data": {
            "text/plain": [
              "[1, 2]"
            ]
          },
          "metadata": {},
          "execution_count": 76
        }
      ]
    },
    {
      "cell_type": "code",
      "source": [
        "numbers [2:4]"
      ],
      "metadata": {
        "colab": {
          "base_uri": "https://localhost:8080/"
        },
        "id": "zThN2Tyx34Zn",
        "outputId": "27838c7e-7f61-4a29-c951-1f5dc713adc2"
      },
      "execution_count": 78,
      "outputs": [
        {
          "output_type": "execute_result",
          "data": {
            "text/plain": [
              "[3, 4]"
            ]
          },
          "metadata": {},
          "execution_count": 78
        }
      ]
    },
    {
      "cell_type": "code",
      "source": [
        "numbers[1:]"
      ],
      "metadata": {
        "colab": {
          "base_uri": "https://localhost:8080/"
        },
        "id": "jcWeE0Qg38aq",
        "outputId": "fbecbe4f-386c-4122-b0fc-cfb13cffc4c1"
      },
      "execution_count": 79,
      "outputs": [
        {
          "output_type": "execute_result",
          "data": {
            "text/plain": [
              "[2, 3, 4, 5]"
            ]
          },
          "metadata": {},
          "execution_count": 79
        }
      ]
    },
    {
      "cell_type": "code",
      "source": [
        "numbers.append(6)#adds 6 to the end\n",
        "numbers.insert(0,0) #adds 0 at index position of 0\n",
        "numbers"
      ],
      "metadata": {
        "colab": {
          "base_uri": "https://localhost:8080/"
        },
        "id": "4n_XBCqF4MSv",
        "outputId": "533a34dd-53c6-4c97-a463-6d73815f138b"
      },
      "execution_count": 92,
      "outputs": [
        {
          "output_type": "execute_result",
          "data": {
            "text/plain": [
              "[0, 1, 2, 3, 4, 5, 6]"
            ]
          },
          "metadata": {},
          "execution_count": 92
        }
      ]
    },
    {
      "cell_type": "code",
      "source": [
        "numbers.remove(6)\n",
        "numbers"
      ],
      "metadata": {
        "colab": {
          "base_uri": "https://localhost:8080/"
        },
        "id": "bIEMFEHn4u8w",
        "outputId": "7458e323-1e46-4b1d-9613-ca448508f732"
      },
      "execution_count": 93,
      "outputs": [
        {
          "output_type": "execute_result",
          "data": {
            "text/plain": [
              "[0, 1, 2, 3, 4, 5]"
            ]
          },
          "metadata": {},
          "execution_count": 93
        }
      ]
    },
    {
      "cell_type": "code",
      "source": [
        "numbers.pop() #removes the last item\n",
        "numbers"
      ],
      "metadata": {
        "colab": {
          "base_uri": "https://localhost:8080/"
        },
        "id": "s7otDjdK5JBx",
        "outputId": "d6d89da6-8d76-493d-aad3-34d32e8d143a"
      },
      "execution_count": 94,
      "outputs": [
        {
          "output_type": "execute_result",
          "data": {
            "text/plain": [
              "[0, 1, 2, 3, 4]"
            ]
          },
          "metadata": {},
          "execution_count": 94
        }
      ]
    },
    {
      "cell_type": "code",
      "source": [
        "numbers.clear() #removes all the items\n",
        "numbers"
      ],
      "metadata": {
        "colab": {
          "base_uri": "https://localhost:8080/"
        },
        "id": "w0QrYA7b5lcv",
        "outputId": "cef06ccc-bc7a-4d30-aac9-f80d59330dae"
      },
      "execution_count": 95,
      "outputs": [
        {
          "output_type": "execute_result",
          "data": {
            "text/plain": [
              "[]"
            ]
          },
          "metadata": {},
          "execution_count": 95
        }
      ]
    },
    {
      "cell_type": "code",
      "source": [
        "Mynewlist = [i for i in range(5)]\n",
        "Mynewlist"
      ],
      "metadata": {
        "colab": {
          "base_uri": "https://localhost:8080/"
        },
        "id": "Px9-FIn3569V",
        "outputId": "279b424d-a79a-4230-8783-2a031b5bd4ab"
      },
      "execution_count": 96,
      "outputs": [
        {
          "output_type": "execute_result",
          "data": {
            "text/plain": [
              "[0, 1, 2, 3, 4]"
            ]
          },
          "metadata": {},
          "execution_count": 96
        }
      ]
    },
    {
      "cell_type": "code",
      "source": [
        "Mynewlist.reverse()\n",
        "Mynewlist"
      ],
      "metadata": {
        "colab": {
          "base_uri": "https://localhost:8080/"
        },
        "id": "M0xlTDfN6DTS",
        "outputId": "b4ce64fa-065d-4080-cdff-900660dcde91"
      },
      "execution_count": 97,
      "outputs": [
        {
          "output_type": "execute_result",
          "data": {
            "text/plain": [
              "[4, 3, 2, 1, 0]"
            ]
          },
          "metadata": {},
          "execution_count": 97
        }
      ]
    },
    {
      "cell_type": "code",
      "source": [
        "Mynewlist.sort()\n",
        "Mynewlist"
      ],
      "metadata": {
        "colab": {
          "base_uri": "https://localhost:8080/"
        },
        "id": "Yi0RmmYy6Lds",
        "outputId": "e0d9458e-6f94-443e-85bb-bd0176c24d5e"
      },
      "execution_count": 99,
      "outputs": [
        {
          "output_type": "execute_result",
          "data": {
            "text/plain": [
              "[0, 1, 2, 3, 4]"
            ]
          },
          "metadata": {},
          "execution_count": 99
        }
      ]
    },
    {
      "cell_type": "code",
      "source": [
        "Mynewlist.index(2)"
      ],
      "metadata": {
        "colab": {
          "base_uri": "https://localhost:8080/"
        },
        "id": "uricNCyo6OoU",
        "outputId": "61f95801-b423-4556-b156-b67896c3e840"
      },
      "execution_count": 100,
      "outputs": [
        {
          "output_type": "execute_result",
          "data": {
            "text/plain": [
              "2"
            ]
          },
          "metadata": {},
          "execution_count": 100
        }
      ]
    },
    {
      "cell_type": "code",
      "source": [
        "Secondlist = Mynewlist.copy()\n",
        "Secondlist"
      ],
      "metadata": {
        "colab": {
          "base_uri": "https://localhost:8080/"
        },
        "id": "cFYA44iy6ZxC",
        "outputId": "4ab47b50-74c4-4ac8-8333-24d9754ae78a"
      },
      "execution_count": 101,
      "outputs": [
        {
          "output_type": "execute_result",
          "data": {
            "text/plain": [
              "[0, 1, 2, 3, 4]"
            ]
          },
          "metadata": {},
          "execution_count": 101
        }
      ]
    },
    {
      "cell_type": "markdown",
      "source": [
        "## **Tuples**\n",
        "They are like read-only lists. We use them to store a list of items. But once we\n",
        "define a tuple, we cannot add or remove items or change the existing items."
      ],
      "metadata": {
        "id": "zpAG5WfU61Vw"
      }
    },
    {
      "cell_type": "code",
      "source": [
        "coordinates = (1, 2, 3)"
      ],
      "metadata": {
        "id": "76ftmYDg6nye"
      },
      "execution_count": 102,
      "outputs": []
    },
    {
      "cell_type": "code",
      "source": [
        "xX, Y, Z = coordinates #We can unpack a list or a tuple into separate variables"
      ],
      "metadata": {
        "id": "9yDeineB7JwU"
      },
      "execution_count": 103,
      "outputs": []
    },
    {
      "cell_type": "code",
      "source": [
        "xX"
      ],
      "metadata": {
        "colab": {
          "base_uri": "https://localhost:8080/"
        },
        "id": "_b9BWs8H7Qqq",
        "outputId": "170f787d-1ddd-433f-a8bc-2b7378065cb5"
      },
      "execution_count": 105,
      "outputs": [
        {
          "output_type": "execute_result",
          "data": {
            "text/plain": [
              "1"
            ]
          },
          "metadata": {},
          "execution_count": 105
        }
      ]
    },
    {
      "cell_type": "markdown",
      "source": [
        "## **Dictionaries**\n",
        "We use dictionaries to store key/value pairs."
      ],
      "metadata": {
        "id": "ClIQrh6e7f5R"
      }
    },
    {
      "cell_type": "code",
      "source": [
        "customer = {\n",
        "\"name\": \"John Smith\",\n",
        "\"age\": 30,\n",
        "\"is verified\": True\n",
        "}\n",
        "#We can use strings or numbers to define keys. They should be unique. We can use any types for the values.\n",
        "\n",
        "customer [\"name\" ] # returns “John Smith”\n",
        "customer[\"name\"] = \"new name\""
      ],
      "metadata": {
        "id": "kxQmPpBv7Rdz"
      },
      "execution_count": 110,
      "outputs": []
    },
    {
      "cell_type": "code",
      "source": [
        "customer[\"type\" ] # throws an error"
      ],
      "metadata": {
        "colab": {
          "base_uri": "https://localhost:8080/",
          "height": 146
        },
        "id": "wxSh7--Y74Jh",
        "outputId": "19c77c54-2e9f-45f0-d479-6d3babb7f766"
      },
      "execution_count": 108,
      "outputs": [
        {
          "output_type": "error",
          "ename": "KeyError",
          "evalue": "'type'",
          "traceback": [
            "\u001b[0;31m---------------------------------------------------------------------------\u001b[0m",
            "\u001b[0;31mKeyError\u001b[0m                                  Traceback (most recent call last)",
            "\u001b[0;32m<ipython-input-108-068744096e0c>\u001b[0m in \u001b[0;36m<cell line: 1>\u001b[0;34m()\u001b[0m\n\u001b[0;32m----> 1\u001b[0;31m \u001b[0mcustomer\u001b[0m\u001b[0;34m[\u001b[0m\u001b[0;34m\"type\"\u001b[0m \u001b[0;34m]\u001b[0m \u001b[0;31m# throws an error\u001b[0m\u001b[0;34m\u001b[0m\u001b[0;34m\u001b[0m\u001b[0m\n\u001b[0m",
            "\u001b[0;31mKeyError\u001b[0m: 'type'"
          ]
        }
      ]
    },
    {
      "cell_type": "code",
      "source": [
        "customer.get(\"type\", \"silver\") # returns “silver”"
      ],
      "metadata": {
        "colab": {
          "base_uri": "https://localhost:8080/",
          "height": 36
        },
        "id": "z-oH3vvM7-_E",
        "outputId": "d7a07a09-eb77-4b42-cc2f-a45c695f4182"
      },
      "execution_count": 109,
      "outputs": [
        {
          "output_type": "execute_result",
          "data": {
            "text/plain": [
              "'silver'"
            ],
            "application/vnd.google.colaboratory.intrinsic+json": {
              "type": "string"
            }
          },
          "metadata": {},
          "execution_count": 109
        }
      ]
    }
  ]
}