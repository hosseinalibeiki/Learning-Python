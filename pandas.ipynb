{
  "nbformat": 4,
  "nbformat_minor": 0,
  "metadata": {
    "colab": {
      "provenance": [],
      "include_colab_link": true
    },
    "kernelspec": {
      "name": "python3",
      "display_name": "Python 3"
    },
    "language_info": {
      "name": "python"
    }
  },
  "cells": [
    {
      "cell_type": "markdown",
      "metadata": {
        "id": "view-in-github",
        "colab_type": "text"
      },
      "source": [
        "<a href=\"https://colab.research.google.com/github/hosseinalibeiki/Learning-Python/blob/main/pandas.ipynb\" target=\"_parent\"><img src=\"https://colab.research.google.com/assets/colab-badge.svg\" alt=\"Open In Colab\"/></a>"
      ]
    },
    {
      "cell_type": "markdown",
      "source": [
        "## **Variable**\n",
        "We use variables to temporarily store data in computer’s memory.\n"
      ],
      "metadata": {
        "id": "cJ1ObwPrR4Lz"
      }
    },
    {
      "cell_type": "code",
      "execution_count": 5,
      "metadata": {
        "id": "1OCUIWKsG9p0"
      },
      "outputs": [],
      "source": [
        "Price = 100 # Price is an integer (a whole number without a decimal point)\n",
        "\n",
        "Rating = 1.5 #Rating is a float (a number with a decimal point)\n",
        "\n",
        "Course_name = \"Python for Beginners\" #Course_name is a string (a sequence of characters)\n",
        "\n",
        "Is_published = True #is_published is a boolean. Boolean values can be True or False."
      ]
    },
    {
      "cell_type": "code",
      "source": [
        "Price,Rating,Course_name,Is_published"
      ],
      "metadata": {
        "id": "VbHJ5LaYHPDE",
        "colab": {
          "base_uri": "https://localhost:8080/"
        },
        "outputId": "2cfe19b5-e1db-42cc-93e0-b697f67c90b4"
      },
      "execution_count": 6,
      "outputs": [
        {
          "output_type": "execute_result",
          "data": {
            "text/plain": [
              "(100, 1.5, 'Python for Beginners', True)"
            ]
          },
          "metadata": {},
          "execution_count": 6
        }
      ]
    },
    {
      "cell_type": "markdown",
      "source": [
        "## **Comments**\n",
        "We use comments to add notes to our code. Good comments explain the hows and\n",
        "whys, not what the code does. That should be reflected in the code itself. Use\n",
        "comments to add reminders to yourself or other developers, or also explain your\n",
        "assumptions and the reasons you’ve written code in a certain way."
      ],
      "metadata": {
        "id": "U_h9EiEoUT53"
      }
    },
    {
      "cell_type": "code",
      "source": [],
      "metadata": {
        "id": "Z6oMPz-gUVdA"
      },
      "execution_count": null,
      "outputs": []
    }
  ]
}