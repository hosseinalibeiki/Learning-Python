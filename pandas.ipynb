{
  "nbformat": 4,
  "nbformat_minor": 0,
  "metadata": {
    "colab": {
      "provenance": [],
      "include_colab_link": true
    },
    "kernelspec": {
      "name": "python3",
      "display_name": "Python 3"
    },
    "language_info": {
      "name": "python"
    }
  },
  "cells": [
    {
      "cell_type": "markdown",
      "metadata": {
        "id": "view-in-github",
        "colab_type": "text"
      },
      "source": [
        "<a href=\"https://colab.research.google.com/github/hosseinalibeiki/Learning-Python/blob/main/pandas.ipynb\" target=\"_parent\"><img src=\"https://colab.research.google.com/assets/colab-badge.svg\" alt=\"Open In Colab\"/></a>"
      ]
    },
    {
      "cell_type": "code",
      "execution_count": 3,
      "metadata": {
        "id": "1OCUIWKsG9p0"
      },
      "outputs": [],
      "source": [
        "Price = 100"
      ]
    },
    {
      "cell_type": "code",
      "source": [
        "Price"
      ],
      "metadata": {
        "id": "VbHJ5LaYHPDE",
        "colab": {
          "base_uri": "https://localhost:8080/"
        },
        "outputId": "a88890a4-2785-4ee8-c098-52b75a990ab9"
      },
      "execution_count": 5,
      "outputs": [
        {
          "output_type": "execute_result",
          "data": {
            "text/plain": [
              "100"
            ]
          },
          "metadata": {},
          "execution_count": 5
        }
      ]
    },
    {
      "cell_type": "code",
      "source": [],
      "metadata": {
        "id": "lr_xQQ7-OuiD"
      },
      "execution_count": null,
      "outputs": []
    }
  ]
}